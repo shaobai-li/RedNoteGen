{
 "cells": [
  {
   "cell_type": "code",
   "execution_count": null,
   "metadata": {},
   "outputs": [],
   "source": [
    "from openai import OpenAI\n",
    "import os\n",
    "import json\n",
    "from dotenv import load_dotenv\n",
    "from urllib.parse import urlparse\n",
    "import secrets\n",
    "\n",
    "load_dotenv()\n",
    "\n",
    "def clean_json_tags(json_str):\n",
    "    return json_str.replace(\"```json\", \"\").replace(\"```\", \"\").strip()\n",
    "\n",
    "\n",
    "def github_to_og(url: str) -> str:\n",
    "    \"\"\"\n",
    "    将 GitHub 仓库链接转换为 OpenGraph 图片链接。\n",
    "    例如: https://github.com/delaford/game\n",
    "    ->   https://opengraph.githubassets.com/<random>/delaford/game\n",
    "    \"\"\"\n",
    "    parsed = urlparse(url.strip())\n",
    "    host = (parsed.netloc or \"\").lower()\n",
    "\n",
    "    # 允许带 www\n",
    "    if host.startswith(\"www.\"):\n",
    "        host = host[4:]\n",
    "\n",
    "    if host != \"github.com\":\n",
    "        raise ValueError(\"仅支持 github.com 域名的仓库链接\")\n",
    "\n",
    "    parts = [p for p in parsed.path.split(\"/\") if p]\n",
    "    if len(parts) < 2:\n",
    "        raise ValueError(\"链接路径不完整，应为 https://github.com/<owner>/<repo>\")\n",
    "\n",
    "    owner, repo = parts[0], parts[1]\n",
    "    if repo.endswith(\".git\"):\n",
    "        repo = repo[:-4]\n",
    "\n",
    "    # 生成任意随机字符串（URL 安全）\n",
    "    token = secrets.token_urlsafe(16)\n",
    "\n",
    "    return f\"https://opengraph.githubassets.com/{token}/{owner}/{repo}\""
   ]
  },
  {
   "cell_type": "markdown",
   "metadata": {},
   "source": [
    "### 第一轮对话"
   ]
  },
  {
   "cell_type": "code",
   "execution_count": 15,
   "metadata": {},
   "outputs": [],
   "source": [
    "#user_input = \"https://github.com/delaford/game\"\n",
    "user_input = \"帮我看一下这个网址 https://github.com/delaford/game\"\n",
    "\n",
    "system_prompt = \"\"\"\n",
    "请提取用户输入的网址，请按照以下 JSON 格式定义的格式输出结果：\n",
    "<OUTPUT JSON SCHEMA>\n",
    "```json\n",
    "{\n",
    "    \"website\": \"提取到的用户输入的网址\",\n",
    "}\n",
    "```\n",
    "</OUTPUT JSON SCHEMA>\n",
    "\"\"\"\n",
    "\n",
    "messages = [\n",
    "    {\"role\": \"system\", \"content\": system_prompt},\n",
    "    {\"role\": \"user\", \"content\": user_input}\n",
    "]\n",
    "\n",
    "llm = OpenAI(\n",
    "    api_key=os.getenv(\"OPENAI_API_KEY\"), \n",
    "    base_url=\"https://api.openai.com/v1\"\n",
    "    )\n",
    "\n",
    "llm_response = llm.chat.completions.create(\n",
    "    model=\"gpt-4o-mini\",\n",
    "    messages=messages,\n",
    "    stream=False\n",
    "    )\n",
    "\n",
    "user_input_url = json.loads(clean_json_tags(llm_response.choices[0].message.content))[\"website\"]"
   ]
  },
  {
   "cell_type": "markdown",
   "metadata": {},
   "source": [
    "### 第二轮对话"
   ]
  },
  {
   "cell_type": "code",
   "execution_count": 22,
   "metadata": {},
   "outputs": [],
   "source": [
    "user_input2 = f\"{user_input_url}\"\n",
    "\n",
    "system_prompt2 = \"\"\"\n",
    "根据用户所给的网址，1. 总结一下这个网址的内容，用一段话总结，不要bullet point。2. 根据总结的内容起一个自媒体的标题\n",
    "请按照以下 JSON 格式定义的格式输出结果：\n",
    "<OUTPUT JSON SCHEMA>\n",
    "```json\n",
    "{\n",
    "\t\"conclusion\": \"非bullet point的形式总结的网址内容的一段话的总结\"\n",
    "\t\"title\": \"根据总结的内容起一个自媒体的标题\"\n",
    "}\n",
    "```\n",
    "</OUTPUT JSON SCHEMA>\n",
    "\"\"\"\n",
    "\n",
    "messages2 = [\n",
    "    {\"role\": \"system\", \"content\": system_prompt2},\n",
    "    {\"role\": \"user\", \"content\": user_input2}\n",
    "]\n",
    "\n",
    "llm_response = llm.chat.completions.create(\n",
    "    model=\"gpt-4o-mini\",\n",
    "    messages=messages2,\n",
    "    stream=False\n",
    "    )\n",
    "\n",
    "output_json = json.loads(clean_json_tags(llm_response.choices[0].message.content))"
   ]
  },
  {
   "cell_type": "code",
   "execution_count": 23,
   "metadata": {},
   "outputs": [],
   "source": [
    "tutorial_url = user_input_url\n",
    "image_url = github_to_og(tutorial_url)\n",
    "conclusion = output_json[\"conclusion\"]\n",
    "title = output_json[\"title\"]"
   ]
  },
  {
   "cell_type": "code",
   "execution_count": 25,
   "metadata": {},
   "outputs": [],
   "source": [
    "markdown_template = f\"\"\"\n",
    "# 🧑‍💻 {title}\n",
    "### 🕒 时间与会议号\n",
    "- **日期**：2025年8月11日（星期一）\n",
    "- **时间**：晚上 **9:00 - 10:00**\n",
    "- **时长**：约 1 小时\n",
    "- **腾讯会议号**：600-5611-6847（长期）\n",
    "---\n",
    "### 📌 项目内容\n",
    "![]({image_url}) \n",
    "---\n",
    "### 📚 项目背景\n",
    "- {conclusion}\n",
    "---\n",
    "### 🙋‍♂️ 如果你想提前了解\n",
    "- 学习地址： {tutorial_url}\n",
    "\"\"\"\n",
    "\n",
    "with open('output.md', 'w', encoding='utf-8') as f:\n",
    "    f.write(markdown_template)\n"
   ]
  },
  {
   "cell_type": "code",
   "execution_count": null,
   "metadata": {},
   "outputs": [],
   "source": []
  }
 ],
 "metadata": {
  "kernelspec": {
   "display_name": "Python 3",
   "language": "python",
   "name": "python3"
  },
  "language_info": {
   "codemirror_mode": {
    "name": "ipython",
    "version": 3
   },
   "file_extension": ".py",
   "mimetype": "text/x-python",
   "name": "python",
   "nbconvert_exporter": "python",
   "pygments_lexer": "ipython3",
   "version": "3.12.4"
  }
 },
 "nbformat": 4,
 "nbformat_minor": 2
}
